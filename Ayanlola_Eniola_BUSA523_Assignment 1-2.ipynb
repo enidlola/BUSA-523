{
 "cells": [
  {
   "cell_type": "markdown",
   "id": "1034719d",
   "metadata": {},
   "source": [
    "### Question 2:\n",
    "##### Random Selection Program, with guided guessing\n",
    "- Randomly select a number between 1 and 20\n",
    "- User given 5 chances to guess the number correctly to win.\n",
    "- Let user know if guess is higher or lower\n",
    "        - Note: After each guess, print if the next guess should be lower or higher. For\n",
    "           example, if the computer selection is 10 and the user input is 6, print\n",
    "           \"guess a higher value\".\n"
   ]
  },
  {
   "cell_type": "code",
   "execution_count": 1,
   "id": "2605053f",
   "metadata": {},
   "outputs": [
    {
     "name": "stdout",
     "output_type": "stream",
     "text": [
      "Welcome. This is a guessing game. The computer has generated a random number between 1 and 20.\n",
      " You have five (5) chances to guess this number correctly. Good luck!\n",
      "\n",
      "Please enter a number between 1 and 20 to match the computer's guess: 5\n",
      "\n",
      "Your guess is lower. Try a higher number. You have 4 chances left.\n",
      "Please enter a number between 1 and 20 to match the computer's guess: 15\n",
      "\n",
      "Your guess is lower. Try a higher number. You have 3 chances left.\n",
      "Please enter a number between 1 and 20 to match the computer's guess: 19\n",
      "\n",
      "Your guess is higher. Try a lower number. You have 2 chances left.\n",
      "Please enter a number between 1 and 20 to match the computer's guess: 17\n",
      "\n",
      "Hooray, You guessed right in 4 tries! 17 is the correct number we are guessing.\n"
     ]
    }
   ],
   "source": [
    "\"\"\"\n",
    "Program: Guided Guessing Random Selection\n",
    "Project: Assignment 1- Question 2\n",
    "Professor: Dr. Vinayaka Gude\n",
    "Student: Eniola Ayanlola\n",
    "\n",
    "\"\"\"\n",
    "\n",
    "import random\n",
    "print(\"Welcome. This is a guessing game. The computer has generated a random number between 1 and 20.\")\n",
    "print(\" You have five (5) chances to guess this number correctly. Good luck!\\n\")\n",
    "# Use a while loop to allow five (attempts)\n",
    "success = False\n",
    "computer = random.randint(1,20)\t# Compute a random no between 1 and 20\n",
    "i = 0\n",
    "while i < 5:\n",
    "    user = int(input(\"Please enter a number between 1 and 20 to match the computer's guess: \"))   #Get user answer and convert to integer.\n",
    "    if user == computer:     \t#Is the guess correct to win?\n",
    "        print(\"\\nHooray, You guessed right in\", i+1, \"tries!\", computer, \"is the correct number we are guessing.\")\n",
    "        success = True\n",
    "        break\n",
    "    elif user < computer:      #Is the user guess lower?\n",
    "        print(\"\\nYour guess is lower. Try a higher number. You have\", 4-i,\"chances left.\")\n",
    "    elif user > computer:      #Is the user's guess higher?\n",
    "        print(\"\\nYour guess is higher. Try a lower number. You have\", 4-i,\"chances left.\")\n",
    "    i = i + 1       # i += 1\n",
    "if success == False:\t\t#If user did not guess right, tell him/her the correct number.\n",
    "    print(\"\\nSorry your five chances have expired. The number you are guessing is: \", computer)\n"
   ]
  },
  {
   "cell_type": "code",
   "execution_count": null,
   "id": "f8840fea",
   "metadata": {},
   "outputs": [],
   "source": []
  }
 ],
 "metadata": {
  "kernelspec": {
   "display_name": "Python 3 (ipykernel)",
   "language": "python",
   "name": "python3"
  },
  "language_info": {
   "codemirror_mode": {
    "name": "ipython",
    "version": 3
   },
   "file_extension": ".py",
   "mimetype": "text/x-python",
   "name": "python",
   "nbconvert_exporter": "python",
   "pygments_lexer": "ipython3",
   "version": "3.9.7"
  }
 },
 "nbformat": 4,
 "nbformat_minor": 5
}
