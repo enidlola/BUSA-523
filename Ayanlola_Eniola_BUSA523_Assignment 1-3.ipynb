{
 "cells": [
  {
   "cell_type": "markdown",
   "id": "713e15e8",
   "metadata": {},
   "source": [
    "### Question 3\n",
    "##### Rock-Paper-Scissors-Slizard-Spock computer game\n",
    "\n",
    "- Game is a modified version of Rock-paper-scissors that allows five choices\n",
    "- User given 5 chances to guess the number correctly to win.\n",
    "- Each choice wins against two other choices, loses against two other choices and ties against itself.\n",
    "- The rules for this variant are as follows:\n",
    "    - Scissors cuts paper, paper covers rock, rock crushes lizard, lizard poisons, Spock smashes scissors, scissors decapitates lizard, lizard eats paper, paper disproves Spock, Spock vaporizes rock, and rock crushes scissors."
   ]
  },
  {
   "cell_type": "code",
   "execution_count": 3,
   "id": "3fe3e5ab",
   "metadata": {},
   "outputs": [
    {
     "name": "stdout",
     "output_type": "stream",
     "text": [
      "Enter your move: rock, spock, paper, lizard, scissors: lizard\n",
      "You Lose! - Rock crushes lizard!\n"
     ]
    }
   ],
   "source": [
    "\"\"\"\n",
    "Program: RockPaperScissorsLizardSpock\n",
    "Project: Assignment 1 - Question 3\n",
    "Professor: Dr. Vinayaka Gude\n",
    "Student: Eniola Ayanlola\n",
    "\n",
    "**************************************************************************************************\n",
    "\"\"\"\n",
    "# import random function for using random.randint, random.randrange\n",
    "import random\n",
    "\n",
    "#print(\"Enter your move: rock, spock, paper, lizard, scissors: \")\t\n",
    "user = input(\"Enter your move: rock, spock, paper, lizard, scissors: \")   #Get user input\n",
    "\n",
    "number = random.randint(1,5)\n",
    "#What number did the computer generate (1 - 5)?\n",
    "if number == 1:\n",
    "    computer = \"rock\"\n",
    "elif number == 2:\n",
    "    computer = \"spock\"    \n",
    "elif number == 3:\n",
    "    computer = \"paper\"\n",
    "elif number == 4:\n",
    "    computer = \"lizard\"   \n",
    "elif number == 5:\n",
    "    computer = \"scissors\"\n",
    "else:\n",
    "    print(\"Sorry- something is wrong\")\n",
    "\n",
    "    \n",
    "# Match the user input with what the computer generated\n",
    "# \"You Win!\" situations\n",
    "if user == computer:\n",
    "    print(\"It's a Tie!\")\n",
    "elif user == \"rock\" and computer ==\"scissors\":\n",
    "    print(\"You Win! - Rock crushes Scissors!\")\n",
    "elif user == \"paper\" and computer ==\"rock\":\n",
    "    print(\"You Win! - Paper covers Rock!\")    \n",
    "elif user == \"scissors\" and computer ==\"paper\":\n",
    "    print(\"You Win! - Scissors cuts Paper!\")\n",
    "elif user == \"rock\" and computer ==\"lizard\":\n",
    "    print(\"You Win! - Rock crushes Lizard!\")\n",
    "elif user == \"lizard\" and computer ==\"spock\":\n",
    "    print(\"You Win! - Lizard poisons spock!\")\n",
    "elif user == \"spock\" and computer ==\"scissors\":\n",
    "    print(\"You Win! - Spock smashes scissors!\")\n",
    "elif user == \"lizard\" and computer ==\"paper\":\n",
    "    print(\"You Win! - Lizard eats Paper!\")\n",
    "elif user == \"paper\" and computer ==\"spock\":\n",
    "    print(\"You Win! - Paper disproves Spock!\")\n",
    "elif user == \"scissors\" and computer ==\"lizard\":\n",
    "    print(\"You Win! - Scissors decapitates Lizard!\")\n",
    "elif user == \"spock\" and computer ==\"rock\":\n",
    "    print(\"You Win! - Spock vaporizes Rock!\")\n",
    "\n",
    "#\"You Lose\" situations    \n",
    "elif user == \"rock\" and computer ==\"paper\":\n",
    "    print(\"You Lose! - Paper covers rock!\")    \n",
    "elif user == \"paper\" and computer ==\"scissors\":\n",
    "    print(\"You Lose! - Scissors cuts paper!\")  \n",
    "elif user == \"scissors\" and computer ==\"rock\":\n",
    "    print(\"You Lose! - Rock crushes scissors!\")\n",
    "elif user == \"lizard\" and computer ==\"rock\":\n",
    "    print(\"You Lose! - Rock crushes lizard!\")\n",
    "elif user == \"lizard\" and computer ==\"scissors\":\n",
    "    print(\"You Lose! - Scissors decapitates lizard!\")\n",
    "elif user == \"rock\" and computer ==\"spock\":\n",
    "    print(\"You Lose! - Spock vaporizes rock!\")\n",
    "elif user == \"paper\" and computer ==\"lizard\":\n",
    "    print(\"You Lose! - Lizard eats paper!\")\n",
    "elif user == \"scissors\" and computer ==\"spock\":\n",
    "    print(\"You Lose! - Spock smashes scissors!\")\n",
    "elif user == \"spock\" and computer ==\"paperk\":\n",
    "    print(\"You Lose! - Paper disproves spock!\")\n",
    "elif user == \"spock\" and computer ==\"lizard\":\n",
    "    print(\"You Lose! - Lizard poisons spock!\")\n",
    "else:\n",
    "    print(\"Invalid Entry\")\n"
   ]
  },
  {
   "cell_type": "code",
   "execution_count": null,
   "id": "384aa0a9",
   "metadata": {},
   "outputs": [],
   "source": []
  }
 ],
 "metadata": {
  "kernelspec": {
   "display_name": "Python 3 (ipykernel)",
   "language": "python",
   "name": "python3"
  },
  "language_info": {
   "codemirror_mode": {
    "name": "ipython",
    "version": 3
   },
   "file_extension": ".py",
   "mimetype": "text/x-python",
   "name": "python",
   "nbconvert_exporter": "python",
   "pygments_lexer": "ipython3",
   "version": "3.9.7"
  }
 },
 "nbformat": 4,
 "nbformat_minor": 5
}
