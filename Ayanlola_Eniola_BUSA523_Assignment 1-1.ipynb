{
 "cells": [
  {
   "cell_type": "markdown",
   "id": "8e4474be",
   "metadata": {},
   "source": [
    "# Assignment 1-1\n"
   ]
  },
  {
   "cell_type": "markdown",
   "id": "d70509eb",
   "metadata": {},
   "source": [
    "### Question 1\n",
    "##### Random Selection Program\n",
    "- randomly select a number between 1 and 20\n",
    "- User given 5 chances to guess the number correctly to win.\n"
   ]
  },
  {
   "cell_type": "code",
   "execution_count": null,
   "id": "de1e5891",
   "metadata": {},
   "outputs": [
    {
     "name": "stdout",
     "output_type": "stream",
     "text": [
      "Welcome. This is a guessing game. The computer has generated a random number between 1 and 20.\n",
      " You have five (5) chances to guess this number correctly. Good luck!\n",
      "\n"
     ]
    }
   ],
   "source": [
    "\"\"\"\n",
    "Program: Random Selection\n",
    "Project: Assignment 1 - Question 1\n",
    "Professor: Dr. Vinayaka Gude\n",
    "Student: Eniola Ayanlola\n",
    "\"\"\"\n",
    "import random\n",
    "print(\"Welcome. This is a guessing game. The computer has generated a random number between 1 and 20.\")\n",
    "print(\" You have five (5) chances to guess this number correctly. Good luck!\\n\")\n",
    "\n",
    "# Use a while loop to allow five (attempts)\n",
    "success = False\n",
    "computer = random.randint(1,20)\t# Compute a random no between 1 and 20\n",
    "i = 0\n",
    "while i < 5:\n",
    "    user = int(input(\"Please enter a number between 1 and 20 to match the computer's guess: \"))     #Get user answer and convert to integer.\n",
    "    if user == computer:     \t#Is the guess correct to win?\n",
    "        print(\"\\nHooray, You guessed right in\", i+1, \"tries!\", computer, \"is the correct number we are guessing.\")\n",
    "        success = True\n",
    "        break\n",
    "    #print(\"i Value = \", i)\n",
    "    i = i + 1\n",
    "if success == False:\t\t#If user did not guess right, tell him/her the correct number.\n",
    "    print(\"\\nSorry your five chances have expired. The number you are guessing is: \", computer)"
   ]
  }
 ],
 "metadata": {
  "kernelspec": {
   "display_name": "Python 3 (ipykernel)",
   "language": "python",
   "name": "python3"
  },
  "language_info": {
   "codemirror_mode": {
    "name": "ipython",
    "version": 3
   },
   "file_extension": ".py",
   "mimetype": "text/x-python",
   "name": "python",
   "nbconvert_exporter": "python",
   "pygments_lexer": "ipython3",
   "version": "3.9.7"
  }
 },
 "nbformat": 4,
 "nbformat_minor": 5
}
